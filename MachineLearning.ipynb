{
 "cells": [
  {
   "cell_type": "markdown",
   "id": "eed272eb",
   "metadata": {},
   "source": [
    "# Machine Learning & Naive Bayes\n",
    "In this project we are to analysing divar advertisement's using naive bayse  \n",
    "first importing pandas and parsivar (for normalizing)  \n",
    "and read train and test "
   ]
  },
  {
   "cell_type": "code",
   "execution_count": 3,
   "id": "c3d50fce",
   "metadata": {},
   "outputs": [],
   "source": [
    "import pandas\n",
    "import parsivar\n",
    "import matplotlib.pyplot as plt\n",
    "\n",
    "train = pandas.read_csv(\"Data/divar_train.csv\")\n",
    "test = pandas.read_csv(\"Data/divar_test.csv\")\n",
    "\n",
    "\n",
    "COEFFICIENT = 10000\n",
    "STOP_WORDS = ['.','و','،','یا','با', 'به', 'در','از', 'هم']\n"
   ]
  },
  {
   "cell_type": "markdown",
   "id": "941bad1d",
   "metadata": {},
   "source": [
    "The `CountingProbDist` class is the base class for this problem "
   ]
  },
  {
   "cell_type": "code",
   "execution_count": 4,
   "id": "a41af741",
   "metadata": {},
   "outputs": [],
   "source": [
    "class CountingProbDist:\n",
    "\n",
    "    def __init__(self, train_df, test_df):\n",
    "        \n",
    "        self.train_df = train_df\n",
    "        self.test_df = test_df\n",
    "        test_df['guess'] = ''\n",
    "        self._normalize(self.train_df)\n",
    "        self._normalize(self.test_df)\n",
    "        self.labels = list(set(train_df['categories'].tolist()))\n",
    "        self.dictionary = {lable : dict() for lable in self.labels}\n",
    "        self.total_words = {lable: 0 for lable in self.labels}\n",
    "\n",
    "    def _normalize(self, df):\n",
    "        my_normalizer = parsivar.Normalizer()\n",
    "        df['target'] = df['title'] + ' ' + df['description'] \n",
    "        for i, value in enumerate(df['target']):\n",
    "            df['target'][i] = my_normalizer.normalize(value)\n",
    "\n",
    "    def _add(self, word, category):\n",
    "        self.total_words[category] += 1\n",
    "        if word not in self.dictionary[category].keys():\n",
    "            self.dictionary[category][word] = 0\n",
    "        \n",
    "        self.dictionary[category][word] += 1\n",
    "\n",
    "\n",
    "    def train(self):\n",
    "        my_stemmer = parsivar.FindStems()\n",
    "        for i, dscr in enumerate(self.train_df['target']):\n",
    "            for word in dscr.split(' '):\n",
    "                if word not in STOP_WORDS:\n",
    "                    self._add(my_stemmer.convert_to_stem(word).split('&')[0], self.train_df['categories'][i])\n",
    "                    \n",
    "\n",
    "\n",
    "    def most_rep(self, lable: str, number: int):\n",
    "        return dict(sorted(list(self.dictionary[lable].items()), key=lambda x: x[1])[-1-number:-1])\n",
    "\n",
    "    def _prob_word(self, word, lable):\n",
    "        if word in self.dictionary[lable].keys():\n",
    "            return COEFFICIENT * (self.dictionary[lable][word] / self.total_words[lable])\n",
    "        else:\n",
    "            return 0\n",
    "\n",
    "    def _prob_word_smoothing(self, word, label):\n",
    "        denominator = 1 + self.total_words[label] + len(self.dictionary[label])\n",
    "        if word in self.dictionary[label].keys():\n",
    "            return COEFFICIENT * (1 + self.dictionary[label][word]) / denominator\n",
    "        else:\n",
    "            return COEFFICIENT / denominator\n",
    "\n",
    "    def naive_bayes_classification(self) -> dict:\n",
    "        my_stemmer = parsivar.FindStems()\n",
    "        correct_detected = {lable : 0 for lable in self.labels}\n",
    "        wrong_detected = {lable : 0 for lable in self.labels}\n",
    "        for i, dscr in enumerate(self.test_df['target']):\n",
    "            all_prob = {lable: 1 for lable in self.labels}\n",
    "\n",
    "            for word in dscr.split(' '):\n",
    "                stemmed_word = my_stemmer.convert_to_stem(word)\n",
    "                for lable in self.labels:\n",
    "                    all_prob[lable] *= self._prob_word(stemmed_word, lable)\n",
    "\n",
    "            guessed = max(all_prob, key=all_prob.get)\n",
    "            self.test_df['guess'][i] = guessed\n",
    "            if guessed == self.test_df['categories'][i]:\n",
    "                correct_detected[guessed] += 1\n",
    "            else:\n",
    "                wrong_detected[guessed] += 1\n",
    "        return (correct_detected, wrong_detected)\n",
    "    \n",
    "    def naive_bayes_classification_smoothing(self) -> dict:\n",
    "        my_stemmer = parsivar.FindStems()\n",
    "        correct_detected = {lable : 0 for lable in self.labels}\n",
    "        wrong_detected = {lable : 0 for lable in self.labels}\n",
    "        for i, dscr in enumerate(self.test_df['target']):\n",
    "            all_prob = {lable: 1 for lable in self.labels}\n",
    "\n",
    "            for word in dscr.split(' '):\n",
    "                stemmed_word = my_stemmer.convert_to_stem(word)\n",
    "                for lable in self.labels:\n",
    "                    all_prob[lable] *= self._prob_word_smoothing(stemmed_word, lable)\n",
    "\n",
    "            guessed = max(all_prob, key=all_prob.get)\n",
    "            self.test_df['guess'][i] = guessed\n",
    "            if guessed == self.test_df['categories'][i]:\n",
    "                correct_detected[guessed] += 1\n",
    "            else:\n",
    "                wrong_detected[guessed] += 1\n",
    "        return (correct_detected, wrong_detected)\n",
    "\n",
    "\n",
    "    def accuracy(self, correct_detected: dict):\n",
    "        return (sum(correct_detected.values())/self.test_df.shape[0])\n",
    "\n",
    "    def recall(self, correct_detected: dict, lable: str):\n",
    "        return (correct_detected[lable]/ self.test_df[self.test_df['categories'] == lable].shape[0])\n",
    "    \n",
    "    def precision(self, correct_detected: dict, wrong_detected: dict, lable: str):\n",
    "        return (correct_detected[lable]/(correct_detected[lable] + wrong_detected[lable]))\n",
    "\n",
    "    def f1(self, precision, recall):\n",
    "        return 2 * ((precision * recall)/(precision + recall))\n",
    "\n",
    "    def macro_f1(self, f1_scores: dict):\n",
    "        return sum(f1_scores.values()) / len(f1_scores)\n",
    "\n",
    "    def micro_f1(self, correct_detected: dict):\n",
    "        return self.accuracy(correct_detected)\n",
    "    \n",
    "    def weighted_f1(self, f1_scores: dict):\n",
    "        total_sum = 0\n",
    "        for lable in self.labels:\n",
    "            total_sum += f1_scores[lable] * self.test_df[self.test_df['categories'] == lable].shape[0]\n",
    "        return total_sum / self.test_df.shape[0]"
   ]
  },
  {
   "cell_type": "markdown",
   "id": "ae7a8129",
   "metadata": {},
   "source": [
    "## Preprocessing the data\n",
    "The `_normalize` function is used to normalizing data using `parsivar.Normalize()` class  \n",
    "other normalizing has been done in `naive_bayse_classification` function using `parsivar.FindStem()` class\n",
    "\n",
    "1. Stemming just removes or stems the last few characters of a word, often leading to incorrect meaning and spelling.\n",
    "2. Lemmatization considers the context and converts the word to its meaningful base form, which is called Lemma.\n",
    "\n",
    "For example if you lemmatize word **'Caring'**, it would return **'Care'**. If you stem, it would return **'Car'** and this is erroneous."
   ]
  },
  {
   "cell_type": "code",
   "execution_count": 5,
   "id": "7dc95918",
   "metadata": {},
   "outputs": [],
   "source": [
    "divar = CountingProbDist(train, test)\n",
    "divar.train()"
   ]
  },
  {
   "cell_type": "markdown",
   "id": "8b914eae",
   "metadata": {},
   "source": [
    "## Problem Process\n",
    "\n",
    "* Posterior Probability: is the probability of a category givne a sentance\n",
    "* Likelihood: is the probability of a sentence given the category\n",
    "* Class Prior Probability: is the probability of occuring a category (in this problem all are equal)\n",
    "* Predictor Prior Probability: is the probability of occuring a sentance\n",
    "\n",
    "We assumed that all word in a sentance are indepandant from each other, so by naive bays law we can calculate:  \n",
    "P(c|X) = p(x<sub>1</sub>|c) * p(x<sub>2</sub>|c) * ... * p(x<sub>n</sub>|c) * p(c)"
   ]
  },
  {
   "cell_type": "markdown",
   "id": "3709a11b",
   "metadata": {},
   "source": [
    "## Bigrams\n",
    "We are using bag of words model in this problem but it has some problem cause we don't consider context of sentances. for solving this problem we can instead use two continious word. It's because some words have multiple meanings like:  \n",
    "> I **left** my wallet in the car.\n",
    "\n",
    "> My car is on the **left** side of the street.\n",
    "\n",
    "In this example we can notice the different using bigram but it's not always the case some time we need to use n-grams"
   ]
  },
  {
   "cell_type": "markdown",
   "id": "0a27805c",
   "metadata": {},
   "source": [
    "## Additive Smoothing\n",
    "As is obvious in naive bays formular if a word is not in a category the probability (for example p(x<sub>k</sub>|c)) becomes zero. (even all other words have a high probability!)  \n",
    "so in addition to `_prob_word` function there is another function `_prob_word_smothing` that uses smoothing which is described bellow:  \n",
    "We add a hypothetical word to the words set, for all the word that is not in the set so the probability of any word is calculated with $p(w|c) = (count(w, c) + 1) \\div (count(c) + |V| + 1) $"
   ]
  },
  {
   "cell_type": "markdown",
   "id": "9737a74f",
   "metadata": {},
   "source": [
    "## Verification\n",
    "First we define `bar_plot` function that uses `matplotlib.pyplot` to draw a bar plot it's argument is dictionary of all word of a category and the title (category name) that we want to use"
   ]
  },
  {
   "cell_type": "code",
   "execution_count": 6,
   "id": "aa27b526",
   "metadata": {},
   "outputs": [
    {
     "data": {
      "image/png": "[encoded data removed]",
      "text/plain": [
       "<Figure size 432x288 with 1 Axes>"
      ]
     },
     "metadata": {
      "needs_background": "light"
     },
     "output_type": "display_data"
    },
    {
     "data": {
      "image/png": "[encoded data removed]",
      "text/plain": [
       "<Figure size 432x288 with 1 Axes>"
      ]
     },
     "metadata": {
      "needs_background": "light"
     },
     "output_type": "display_data"
    },
    {
     "data": {
      "image/png": "[encoded data removed]",
      "text/plain": [
       "<Figure size 432x288 with 1 Axes>"
      ]
     },
     "metadata": {
      "needs_background": "light"
     },
     "output_type": "display_data"
    },
    {
     "data": {
      "image/png": "[encoded data removed]",
      "text/plain": [
       "<Figure size 432x288 with 1 Axes>"
      ]
     },
     "metadata": {
      "needs_background": "light"
     },
     "output_type": "display_data"
    },
    {
     "data": {
      "image/png": "[encoded data removed]",
      "text/plain": [
       "<Figure size 432x288 with 1 Axes>"
      ]
     },
     "metadata": {
      "needs_background": "light"
     },
     "output_type": "display_data"
    },
    {
     "data": {
      "image/png": "[encoded data removed]",
      "text/plain": [
       "<Figure size 432x288 with 1 Axes>"
      ]
     },
     "metadata": {
      "needs_background": "light"
     },
     "output_type": "display_data"
    }
   ],
   "source": [
    "def bar_plot(dictionary: dict, title: str):\n",
    "    fig = plt.figure()\n",
    "    plt.bar(dictionary.keys(), dictionary.values(), color=\"green\")\n",
    "    plt.title(title)\n",
    "    plt.show()\n",
    "for label in divar.labels:\n",
    "        bar_plot(divar.most_rep(label, 5), label)"
   ]
  },
  {
   "cell_type": "markdown",
   "id": "d03ce0cc",
   "metadata": {},
   "source": [
    "## Evaluation\n",
    "For evaluating our model we use four criterion:  \n",
    "1. Accuracy\n",
    "2. Precision\n",
    "3. Recall\n",
    "4. F1\n",
    "\n",
    "* precision and recall are not enough on their own. For example in a model we can always predict the lable to be A so the Recall of lable A would be 100% but as you understand this model is not a good model. In contrast a model could be very strict about some lables and predict them only a few times (and consequently most of them would be correct) but it also is not a good model cause it's does not risk to predict at least a good portion of that lables. So there is always a trade-off between precision and recall and we can't have both of them\n",
    "* F1-score is computed using a mean (“average”), but not the usual arithmetic mean. It uses the harmonic mean.Similar to arithmetic mean, the F1-score will always be somewhere in between precision and recall. But it behaves differently: the F1-score gives a larger weight to lower numbers. The reason we use this kind of mean is cause consider Classifier A has presicion = recall = 80% and classifier B has precision = 100% and recall = 60% normal mean would give both of them, but in classifier B the low recall score would decrease the accuracy of our model.\n",
    "* In binary classification we want to choose between two things (like true or false) but in multi-class metrics it's diffrent. so we need to defind some mean scores:\n",
    "    1. macro:  \n",
    "        this is just simple arithmatic mean\n",
    "    2. weighted:  \n",
    "        we weight the F1-score of each class by the number of samples from that class.\n",
    "    3. micro:  \n",
    "        $micro-F1 = micro-precision = micro-recall = accuracy$"
   ]
  },
  {
   "cell_type": "markdown",
   "id": "f8bd40d1",
   "metadata": {},
   "source": [
    "### 1. Calculating without Additive Smoothing\n",
    "As we can see the results is awful"
   ]
  },
  {
   "cell_type": "code",
   "execution_count": 7,
   "id": "51755a6a",
   "metadata": {},
   "outputs": [
    {
     "name": "stdout",
     "output_type": "stream",
     "text": [
      "Accuracy 0.23944444444444443\n",
      "Presicion of electronic-devices is: 0.18159806295399517\n",
      "Presicion of businesses is: 0.7352941176470589\n",
      "Presicion of leisure-hobbies is: 0.92\n",
      "Presicion of personal is: 0.8846153846153846\n",
      "Presicion of for-the-home is: 0.9375\n",
      "Presicion of vehicles is: 0.967741935483871\n",
      "Recall of electronic-devices is : 1.0\n",
      "Recall of businesses is : 0.08333333333333333\n",
      "Recall of leisure-hobbies is : 0.07666666666666666\n",
      "Recall of personal is : 0.07666666666666666\n",
      "Recall of for-the-home is : 0.1\n",
      "Recall of vehicles is : 0.1\n",
      "F1_score of electronic-devices is : 0.18159806295399517\n",
      "F1_score of businesses is : 0.7352941176470589\n",
      "F1_score of leisure-hobbies is : 0.92\n",
      "F1_score of personal is : 0.8846153846153846\n",
      "F1_score of for-the-home is : 0.9375\n",
      "F1_score of vehicles is : 0.967741935483871\n"
     ]
    }
   ],
   "source": [
    "correct_detected, wrong_detected =  divar.naive_bayes_classification()\n",
    "f1_scores = {label: 0 for label in divar.labels}\n",
    "\n",
    "print('Accuracy',divar.accuracy(correct_detected))\n",
    "for label in divar.labels:\n",
    "    print(f'Presicion of {label} is:', divar.precision(correct_detected, wrong_detected, label))\n",
    "for label in divar.labels:\n",
    "    print(f'Recall of {label} is :',divar.recall(correct_detected,label))\n",
    "for label in divar.labels:\n",
    "    f1_scores[label] = divar.precision(correct_detected, wrong_detected, label)\n",
    "    print(f'F1_score of {label} is :', f1_scores[label])    "
   ]
  },
  {
   "cell_type": "markdown",
   "id": "b3b023a7",
   "metadata": {},
   "source": [
    "### 2. Calculatin with Additive Smoothing"
   ]
  },
  {
   "cell_type": "code",
   "execution_count": 8,
   "id": "abcbd2a3",
   "metadata": {},
   "outputs": [
    {
     "name": "stdout",
     "output_type": "stream",
     "text": [
      "Accuracy 0.8616666666666667\n",
      "Presicion of electronic-devices is: 0.9401408450704225\n",
      "Presicion of businesses is: 0.7705479452054794\n",
      "Presicion of leisure-hobbies is: 0.9194139194139194\n",
      "Presicion of personal is: 0.8709677419354839\n",
      "Presicion of for-the-home is: 0.7577464788732394\n",
      "Presicion of vehicles is: 0.9405594405594405\n",
      "Recall of electronic-devices is : 0.89\n",
      "Recall of businesses is : 0.75\n",
      "Recall of leisure-hobbies is : 0.8366666666666667\n",
      "Recall of personal is : 0.9\n",
      "Recall of for-the-home is : 0.8966666666666666\n",
      "Recall of vehicles is : 0.8966666666666666\n",
      "F1_score of electronic-devices is : 0.9401408450704225\n",
      "F1_score of businesses is : 0.7705479452054794\n",
      "F1_score of leisure-hobbies is : 0.9194139194139194\n",
      "F1_score of personal is : 0.8709677419354839\n",
      "F1_score of for-the-home is : 0.7577464788732394\n",
      "F1_score of vehicles is : 0.9405594405594405\n"
     ]
    }
   ],
   "source": [
    "correct_detected, wrong_detected =  divar.naive_bayes_classification_smoothing()\n",
    "f1_scores = {label: 0 for label in divar.labels}\n",
    "\n",
    "print('Accuracy',divar.accuracy(correct_detected))\n",
    "for label in divar.labels:\n",
    "    print(f'Presicion of {label} is:', divar.precision(correct_detected, wrong_detected, label))\n",
    "for label in divar.labels:\n",
    "    print(f'Recall of {label} is :',divar.recall(correct_detected,label))\n",
    "for label in divar.labels:\n",
    "    f1_scores[label] = divar.precision(correct_detected, wrong_detected, label)\n",
    "    print(f'F1_score of {label} is :', f1_scores[label])    "
   ]
  },
  {
   "cell_type": "markdown",
   "id": "13afbac9",
   "metadata": {},
   "source": [
    "## Analysis\n",
    "As expected accuracy and f1_score in additive smoothing is way higher that the other one.  \n",
    "now all ads that labelel wrong:  \n",
    "I think the problem is that we didn't do much of preprocessing and also we didn't use bigrams and we just use a simple unigrams probably with bigrams we get a very much better results."
   ]
  },
  {
   "cell_type": "code",
   "execution_count": 9,
   "id": "3ddc32e9",
   "metadata": {},
   "outputs": [
    {
     "data": {
      "text/html": [
       "<div>\n",
       "<style scoped>\n",
       "    .dataframe tbody tr th:only-of-type {\n",
       "        vertical-align: middle;\n",
       "    }\n",
       "\n",
       "    .dataframe tbody tr th {\n",
       "        vertical-align: top;\n",
       "    }\n",
       "\n",
       "    .dataframe thead th {\n",
       "        text-align: right;\n",
       "    }\n",
       "</style>\n",
       "<table border=\"1\" class=\"dataframe\">\n",
       "  <thead>\n",
       "    <tr style=\"text-align: right;\">\n",
       "      <th></th>\n",
       "      <th>title</th>\n",
       "      <th>description</th>\n",
       "      <th>categories</th>\n",
       "      <th>guess</th>\n",
       "      <th>target</th>\n",
       "    </tr>\n",
       "  </thead>\n",
       "  <tbody>\n",
       "    <tr>\n",
       "      <th>6</th>\n",
       "      <td>دوربین تک چشم روسی</td>\n",
       "      <td>بردش از ۲۰به ۴۰تغییر یافته \\n۴۰در۵۰</td>\n",
       "      <td>leisure-hobbies</td>\n",
       "      <td>electronic-devices</td>\n",
       "      <td>دوربین تک چشم روسی بردش از 20به 40تغییر یافته ...</td>\n",
       "    </tr>\n",
       "    <tr>\n",
       "      <th>16</th>\n",
       "      <td>سیپوراکس</td>\n",
       "      <td>سیپوراکس میکرو مک جی بی ال و سرامیک سرا ، کاهن...</td>\n",
       "      <td>leisure-hobbies</td>\n",
       "      <td>for-the-home</td>\n",
       "      <td>سیپوراکس سیپوراکس میکرو مک جی بی‌ال و سرامیک س...</td>\n",
       "    </tr>\n",
       "    <tr>\n",
       "      <th>28</th>\n",
       "      <td>موتور تزیینی</td>\n",
       "      <td>از جنس اهن کار دست عرضه به صورت عمده و تکی</td>\n",
       "      <td>for-the-home</td>\n",
       "      <td>businesses</td>\n",
       "      <td>موتور تزیینی از جنس اهن کار دست عرضه به صورت ع...</td>\n",
       "    </tr>\n",
       "    <tr>\n",
       "      <th>34</th>\n",
       "      <td>مانتو۲۰۰عدد</td>\n",
       "      <td>یکجا زیر قیمت . حراج حراج حراج  حراج و حراج بی...</td>\n",
       "      <td>businesses</td>\n",
       "      <td>personal</td>\n",
       "      <td>مانتو200عدد یکجا زیر قیمت . حراج حراج حراج حرا...</td>\n",
       "    </tr>\n",
       "    <tr>\n",
       "      <th>37</th>\n",
       "      <td>90عدد بشقاب پیتزا تک نفره قیمت هرعدد 4000</td>\n",
       "      <td>بشقاب پیتزا یک نفره عددی 4000 باتشکراز دیوار.</td>\n",
       "      <td>businesses</td>\n",
       "      <td>for-the-home</td>\n",
       "      <td>90عدد بشقاب پیتزا تک نفره قیمت هرعدد 4000 بشقا...</td>\n",
       "    </tr>\n",
       "    <tr>\n",
       "      <th>...</th>\n",
       "      <td>...</td>\n",
       "      <td>...</td>\n",
       "      <td>...</td>\n",
       "      <td>...</td>\n",
       "      <td>...</td>\n",
       "    </tr>\n",
       "    <tr>\n",
       "      <th>1768</th>\n",
       "      <td>فکس T...Come ، تی کام اصل آلمان</td>\n",
       "      <td>فکس T... Come اصل ... در منزل استفاده شده . نو...</td>\n",
       "      <td>businesses</td>\n",
       "      <td>electronic-devices</td>\n",
       "      <td>فکس T ... Come ، تی کام اصل آلمان فکس T ... Co...</td>\n",
       "    </tr>\n",
       "    <tr>\n",
       "      <th>1771</th>\n",
       "      <td>زیر پایی</td>\n",
       "      <td>باسلام فروش زیر پایی  کاسه ای کاملاً نوع وتازه...</td>\n",
       "      <td>vehicles</td>\n",
       "      <td>for-the-home</td>\n",
       "      <td>زیر پایی باسلام فروش زیر پایی کاسه‌ای کاملا نو...</td>\n",
       "    </tr>\n",
       "    <tr>\n",
       "      <th>1775</th>\n",
       "      <td>قفسه</td>\n",
       "      <td>5 طبقه دو متری . 5 طبقه چهار متری</td>\n",
       "      <td>businesses</td>\n",
       "      <td>for-the-home</td>\n",
       "      <td>قفسه 5 طبقه دو متری . 5 طبقه چهار متری</td>\n",
       "    </tr>\n",
       "    <tr>\n",
       "      <th>1780</th>\n",
       "      <td>جا لباسی</td>\n",
       "      <td>صد در صد برنج ،برای دیدن کارهای برنجی دیگر پیغ...</td>\n",
       "      <td>for-the-home</td>\n",
       "      <td>businesses</td>\n",
       "      <td>جا لباسی صد در صد برنج ، برای دیدن کارهای برنج...</td>\n",
       "    </tr>\n",
       "    <tr>\n",
       "      <th>1795</th>\n",
       "      <td>باسکول 300کیلویی</td>\n",
       "      <td>سالمه سالمه بشرط\\nقیمت نوش داخل بازار600تومنه</td>\n",
       "      <td>businesses</td>\n",
       "      <td>for-the-home</td>\n",
       "      <td>باسکول 300کیلویی سالمه سالمه بشرط\\nقیمت نوش دا...</td>\n",
       "    </tr>\n",
       "  </tbody>\n",
       "</table>\n",
       "<p>249 rows × 5 columns</p>\n",
       "</div>"
      ],
      "text/plain": [
       "                                          title  \\\n",
       "6                            دوربین تک چشم روسی   \n",
       "16                                     سیپوراکس   \n",
       "28                                 موتور تزیینی   \n",
       "34                                  مانتو۲۰۰عدد   \n",
       "37    90عدد بشقاب پیتزا تک نفره قیمت هرعدد 4000   \n",
       "...                                         ...   \n",
       "1768            فکس T...Come ، تی کام اصل آلمان   \n",
       "1771                                   زیر پایی   \n",
       "1775                                       قفسه   \n",
       "1780                                   جا لباسی   \n",
       "1795                           باسکول 300کیلویی   \n",
       "\n",
       "                                            description       categories  \\\n",
       "6                   بردش از ۲۰به ۴۰تغییر یافته \\n۴۰در۵۰  leisure-hobbies   \n",
       "16    سیپوراکس میکرو مک جی بی ال و سرامیک سرا ، کاهن...  leisure-hobbies   \n",
       "28           از جنس اهن کار دست عرضه به صورت عمده و تکی     for-the-home   \n",
       "34    یکجا زیر قیمت . حراج حراج حراج  حراج و حراج بی...       businesses   \n",
       "37        بشقاب پیتزا یک نفره عددی 4000 باتشکراز دیوار.       businesses   \n",
       "...                                                 ...              ...   \n",
       "1768  فکس T... Come اصل ... در منزل استفاده شده . نو...       businesses   \n",
       "1771  باسلام فروش زیر پایی  کاسه ای کاملاً نوع وتازه...         vehicles   \n",
       "1775                  5 طبقه دو متری . 5 طبقه چهار متری       businesses   \n",
       "1780  صد در صد برنج ،برای دیدن کارهای برنجی دیگر پیغ...     for-the-home   \n",
       "1795      سالمه سالمه بشرط\\nقیمت نوش داخل بازار600تومنه       businesses   \n",
       "\n",
       "                   guess                                             target  \n",
       "6     electronic-devices  دوربین تک چشم روسی بردش از 20به 40تغییر یافته ...  \n",
       "16          for-the-home  سیپوراکس سیپوراکس میکرو مک جی بی‌ال و سرامیک س...  \n",
       "28            businesses  موتور تزیینی از جنس اهن کار دست عرضه به صورت ع...  \n",
       "34              personal  مانتو200عدد یکجا زیر قیمت . حراج حراج حراج حرا...  \n",
       "37          for-the-home  90عدد بشقاب پیتزا تک نفره قیمت هرعدد 4000 بشقا...  \n",
       "...                  ...                                                ...  \n",
       "1768  electronic-devices  فکس T ... Come ، تی کام اصل آلمان فکس T ... Co...  \n",
       "1771        for-the-home  زیر پایی باسلام فروش زیر پایی کاسه‌ای کاملا نو...  \n",
       "1775        for-the-home             قفسه 5 طبقه دو متری . 5 طبقه چهار متری  \n",
       "1780          businesses  جا لباسی صد در صد برنج ، برای دیدن کارهای برنج...  \n",
       "1795        for-the-home  باسکول 300کیلویی سالمه سالمه بشرط\\nقیمت نوش دا...  \n",
       "\n",
       "[249 rows x 5 columns]"
      ]
     },
     "execution_count": 9,
     "metadata": {},
     "output_type": "execute_result"
    }
   ],
   "source": [
    "test_wrong = test\n",
    "\n",
    "for r in range(len(test)):\n",
    "    if test_wrong['guess'][r] == test_wrong['categories'][r]:\n",
    "        test_wrong = test_wrong.drop(r)\n",
    "\n",
    "test_wrong"
   ]
  },
  {
   "cell_type": "markdown",
   "id": "0beecd29",
   "metadata": {},
   "source": [
    "***\n",
    "By **Ali Ranjbari**  \n",
    "Computer Engineering  \n",
    "University of Tehran  \n",
    "### References\n",
    "* towardsdatascience.com"
   ]
  }
 ],
 "metadata": {
  "kernelspec": {
   "display_name": "Python 3 (ipykernel)",
   "language": "python",
   "name": "python3"
  },
  "language_info": {
   "codemirror_mode": {
    "name": "ipython",
    "version": 3
   },
   "file_extension": ".py",
   "mimetype": "text/x-python",
   "name": "python",
   "nbconvert_exporter": "python",
   "pygments_lexer": "ipython3",
   "version": "3.8.10"
  }
 },
 "nbformat": 4,
 "nbformat_minor": 5
}
